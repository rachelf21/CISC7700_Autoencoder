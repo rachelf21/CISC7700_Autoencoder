{
 "cells": [
  {
   "cell_type": "code",
   "execution_count": 1,
   "metadata": {
    "collapsed": true
   },
   "outputs": [],
   "source": [
    "import numpy as np\n",
    "\n",
    "def ReLU(x):\n",
    "    return x * (x > 0)\n",
    "\n",
    "def dReLU(x):\n",
    "    return 1. * (x > 0)"
   ]
  },
  {
   "cell_type": "code",
   "execution_count": 2,
   "metadata": {
    "collapsed": true
   },
   "outputs": [],
   "source": [
    "feature_set = np.array([[0, 0, 0 ,0, 0 ,0, 0, 1], [0, 0, 0 ,0, 0 ,0, 1, 0], [0, 0, 0 ,0, 0 ,1, 0, 0], [0, 0, 0 ,0, 1 ,0, 0, 0],[0, 0, 0 ,1, 0 ,0, 0, 0], [0, 0, 1 ,0, 0 ,0, 0, 0], [0, 1, 0 ,0, 0 ,0, 0, 0], [1, 0, 0 ,0, 0 ,0, 0, 0]])\n",
    "target = feature_set   #8x8"
   ]
  },
  {
   "cell_type": "code",
   "execution_count": 5,
   "metadata": {},
   "outputs": [
    {
     "name": "stdout",
     "output_type": "stream",
     "text": [
      "\n",
      "WEIGHTS  3x8\n",
      "[[0.37454012 0.95071431 0.73199394 0.59865848 0.15601864 0.15599452\n",
      "  0.05808361 0.86617615]\n",
      " [0.60111501 0.70807258 0.02058449 0.96990985 0.83244264 0.21233911\n",
      "  0.18182497 0.18340451]\n",
      " [0.30424224 0.52475643 0.43194502 0.29122914 0.61185289 0.13949386\n",
      "  0.29214465 0.36636184]]\n"
     ]
    }
   ],
   "source": [
    "np.random.seed(42)\n",
    "weights = np.random.rand(3,8) \n",
    "print(\"\\nWEIGHTS  3x8\")\n",
    "print(weights)\n",
    "bias = np.random.rand(3,8)\n",
    "lr = 0.001"
   ]
  },
  {
   "cell_type": "code",
   "execution_count": 6,
   "metadata": {
    "collapsed": true
   },
   "outputs": [],
   "source": [
    "for epoch in range(300):\n",
    "    inputs = feature_set # 8x8\n",
    "    XW = np.dot(weights, feature_set) + bias #3x8\n",
    "    z = ReLU(XW)  #3x8\n",
    "    weights_transpose = np.transpose(weights)  #8x3\n",
    "    _8x8 = np.dot(weights_transpose, z) #8x8\n",
    "    output = ReLU(_8x8) #8x8\n",
    "    \n",
    "    # backpropagation:\n",
    "    # get error difference\n",
    "    error = output - target  #8x8\n",
    "    # get derivative of relu on output matrix\n",
    "    dpred_dz = dReLU(error)  #8x8\n",
    "    # multiply error by step function from prev step\n",
    "    z_delta = error * dpred_dz  #8x8\n",
    "    \n",
    "    inputs = feature_set.T  #8x8\n",
    "    weights -= lr * np.dot(z, z_delta) \n",
    "    for num in z_delta:\n",
    "        bias -= lr * num\n",
    "    "
   ]
  },
  {
   "cell_type": "code",
   "execution_count": 7,
   "metadata": {},
   "outputs": [
    {
     "name": "stdout",
     "output_type": "stream",
     "text": [
      "\n",
      "\n",
      "FINAL OUTPUT:\n",
      "[[ 0.16606491  0.          0.          0.2106122   0.20760657  0.14285187\n",
      "   0.30552901  0.14582286]\n",
      " [ 0.54097757  0.          0.          0.33565105  0.39848165  0.44645582\n",
      "   0.76389388  0.30552901]\n",
      " [ 0.39070741  0.          0.         -0.         -0.          0.32431661\n",
      "   0.34486205  0.06786752]\n",
      " [ 0.17581146  0.          0.          0.25415224  0.35452259  0.12807142\n",
      "   0.38474605  0.20119378]\n",
      " [-0.          0.          0.          0.46205386  0.24127752  0.04313464\n",
      "   0.24806167  0.18513357]\n",
      " [-0.          0.          0.         -0.         -0.         -0.\n",
      "  -0.         -0.        ]\n",
      " [-0.          0.          0.         -0.         -0.         -0.\n",
      "  -0.         -0.        ]\n",
      " [ 0.49048724  0.          0.         -0.          0.09829832  0.39070741\n",
      "   0.47955325  0.12072884]]\n"
     ]
    }
   ],
   "source": [
    "test_feature = feature_set  #8x8\n",
    "z = ReLU(np.dot(weights, test_feature)) #3x8\n",
    "weights_transpose = np.transpose(weights) #8x3\n",
    "_8x8 = np.dot(weights_transpose, z) #8x8\n",
    "output=ReLU(_8x8) #8x8\n",
    "\n",
    "print(\"\\n\\nFINAL OUTPUT:\")  \n",
    "print (output)"
   ]
  },
  {
   "cell_type": "code",
   "execution_count": null,
   "metadata": {
    "collapsed": true
   },
   "outputs": [],
   "source": []
  }
 ],
 "metadata": {
  "kernelspec": {
   "display_name": "Python 3",
   "language": "python",
   "name": "python3"
  },
  "language_info": {
   "codemirror_mode": {
    "name": "ipython",
    "version": 3
   },
   "file_extension": ".py",
   "mimetype": "text/x-python",
   "name": "python",
   "nbconvert_exporter": "python",
   "pygments_lexer": "ipython3",
   "version": "3.6.3"
  },
  "latex_envs": {
   "LaTeX_envs_menu_present": true,
   "autoclose": false,
   "autocomplete": true,
   "bibliofile": "biblio.bib",
   "cite_by": "apalike",
   "current_citInitial": 1,
   "eqLabelWithNumbers": true,
   "eqNumInitial": 1,
   "hotkeys": {
    "equation": "Ctrl-E",
    "itemize": "Ctrl-I"
   },
   "labels_anchors": false,
   "latex_user_defs": false,
   "report_style_numbering": false,
   "user_envs_cfg": false
  }
 },
 "nbformat": 4,
 "nbformat_minor": 2
}
